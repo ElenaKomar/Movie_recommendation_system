{
 "cells": [
  {
   "cell_type": "code",
   "execution_count": 1,
   "metadata": {
    "tags": []
   },
   "outputs": [],
   "source": [
    "import pandas as pd"
   ]
  },
  {
   "cell_type": "markdown",
   "metadata": {},
   "source": [
    "# Знакомство и предобработка данных"
   ]
  },
  {
   "cell_type": "markdown",
   "metadata": {},
   "source": [
    "Посмотрим содержимое файла [tmdb_5000_movies](https://files.sberdisk.ru/s/te4QbzdxKgsFQXA)."
   ]
  },
  {
   "cell_type": "code",
   "execution_count": 2,
   "metadata": {
    "scrolled": true
   },
   "outputs": [
    {
     "name": "stdout",
     "output_type": "stream",
     "text": [
      "<class 'pandas.core.frame.DataFrame'>\n",
      "RangeIndex: 4803 entries, 0 to 4802\n",
      "Data columns (total 4 columns):\n",
      " #   Column    Non-Null Count  Dtype \n",
      "---  ------    --------------  ----- \n",
      " 0   movie_id  4803 non-null   int64 \n",
      " 1   title     4803 non-null   object\n",
      " 2   cast      4803 non-null   object\n",
      " 3   crew      4803 non-null   object\n",
      "dtypes: int64(1), object(3)\n",
      "memory usage: 150.2+ KB\n",
      "None\n"
     ]
    }
   ],
   "source": [
    "df_credits = pd.read_csv('../../datasets/tmdb_5000_credits.csv', low_memory=False)\n",
    "print(df_credits.info())"
   ]
  },
  {
   "cell_type": "markdown",
   "metadata": {},
   "source": [
    "Посмотрим содержимое файла [tmdb_5000_credits](https://files.sberdisk.ru/s/H9oRuXQt5mFz3T9)"
   ]
  },
  {
   "cell_type": "code",
   "execution_count": 3,
   "metadata": {},
   "outputs": [
    {
     "name": "stdout",
     "output_type": "stream",
     "text": [
      "<class 'pandas.core.frame.DataFrame'>\n",
      "RangeIndex: 4803 entries, 0 to 4802\n",
      "Data columns (total 20 columns):\n",
      " #   Column                Non-Null Count  Dtype  \n",
      "---  ------                --------------  -----  \n",
      " 0   budget                4803 non-null   int64  \n",
      " 1   genres                4803 non-null   object \n",
      " 2   homepage              1712 non-null   object \n",
      " 3   id                    4803 non-null   int64  \n",
      " 4   keywords              4803 non-null   object \n",
      " 5   original_language     4803 non-null   object \n",
      " 6   original_title        4803 non-null   object \n",
      " 7   overview              4800 non-null   object \n",
      " 8   popularity            4803 non-null   float64\n",
      " 9   production_companies  4803 non-null   object \n",
      " 10  production_countries  4803 non-null   object \n",
      " 11  release_date          4802 non-null   object \n",
      " 12  revenue               4803 non-null   int64  \n",
      " 13  runtime               4801 non-null   float64\n",
      " 14  spoken_languages      4803 non-null   object \n",
      " 15  status                4803 non-null   object \n",
      " 16  tagline               3959 non-null   object \n",
      " 17  title                 4803 non-null   object \n",
      " 18  vote_average          4803 non-null   float64\n",
      " 19  vote_count            4803 non-null   int64  \n",
      "dtypes: float64(3), int64(4), object(13)\n",
      "memory usage: 750.6+ KB\n",
      "None\n"
     ]
    }
   ],
   "source": [
    "df_movies = pd.read_csv('../../datasets/tmdb_5000_movies.csv', low_memory=False)\n",
    "print(df_movies.info())"
   ]
  },
  {
   "cell_type": "markdown",
   "metadata": {},
   "source": [
    "Объединим общие данные о фильмах и каст фильмов. \n",
    "Оставим в датасете только фильмы, которые вышли в \"релиз\".\n",
    "Уберём фильмы с пропусками в колонках ['overview', 'genres', 'keywords']"
   ]
  },
  {
   "cell_type": "code",
   "execution_count": 4,
   "metadata": {},
   "outputs": [
    {
     "name": "stdout",
     "output_type": "stream",
     "text": [
      "Количество фильмов, оставшихся после фильтрации: 4792\n"
     ]
    }
   ],
   "source": [
    "#Объединяем df\n",
    "df = df_credits.merge(df_movies, left_on=['movie_id', 'title'], right_on=['id', 'title'], how='inner')\n",
    "\n",
    "#Оставляем только фильмы, вышедшие в релиз.\n",
    "df = df[df.status == 'Released']\n",
    "\n",
    "#Убераем фильмы с пропусками в колонках ['overview', 'genres', 'keywords']\n",
    "df = df.dropna(subset=['overview', 'genres', 'keywords'])\n",
    "\n",
    "print(f\"Количество фильмов, оставшихся после фильтрации: {df.shape[0]}\")"
   ]
  },
  {
   "cell_type": "markdown",
   "metadata": {},
   "source": [
    "## Content Based Filtering (Фильтрация на основе содержания) "
   ]
  },
  {
   "cell_type": "markdown",
   "metadata": {},
   "source": [
    "Реализуем алгоритм рекомендации на основе описания фильма (`overview`) и ключевых слов к фильму (`keywords`). \n",
    "Объедини тексты этих колонок и проведи предобработку:\n",
    "* Заменим NaN в описании фильма на пустой символ `''`\n",
    "* Удалим все английские стоп-слова (используй параметр `stop_words` в `TfidfVectorizer`)\n",
    "* Рассчитаем матрицу [Tf-Idf](https://scikit-learn.org/stable/modules/generated/sklearn.feature_extraction.text.TfidfVectorizer.html) для описания фильмов.\n",
    "\n",
    "> Параметр `max_features` в `TfidfVectorizer` равен 10000"
   ]
  },
  {
   "cell_type": "code",
   "execution_count": 5,
   "metadata": {},
   "outputs": [
    {
     "name": "stdout",
     "output_type": "stream",
     "text": [
      "Размер матрицы Tf-Idf: (4792, 10000)\n"
     ]
    }
   ],
   "source": [
    "from sklearn.feature_extraction.text import TfidfVectorizer\n",
    "\n",
    "# Объединяем тексты колонок с описание фильмов и ключевыми словами.\n",
    "df['overview_keywords'] = df['overview'] + df['keywords']\n",
    "\n",
    "#Замена NaN на '' в столбце с описанием фильма\n",
    "df['overview_keywords'] = df['overview_keywords'].fillna('')\n",
    "\n",
    "# Исключение неинформотивных слов, редковстречающихся слов, небуквенных символов, привидение текста к нижнему регистру.\n",
    "# Векторизируем столбец с описанием фильма\n",
    "vectorizer = TfidfVectorizer(stop_words='english', max_features=10000)\n",
    "tf_idf = vectorizer.fit_transform(df['overview_keywords'])\n",
    "\n",
    "print('Размер матрицы Tf-Idf:', tf_idf.shape)"
   ]
  },
  {
   "cell_type": "markdown",
   "metadata": {},
   "source": [
    "Рассчитаем [cosine similarity](https://scikit-learn.org/stable/modules/generated/sklearn.metrics.pairwise.cosine_similarity.html) \n",
    "между фильмами. Составим из этой матрицы `pd.DataFrame`. Для дальнейшего удобства, \n",
    "колонки и индексы таблицы назовём согласно`id` фильма."
   ]
  },
  {
   "cell_type": "code",
   "execution_count": 6,
   "metadata": {},
   "outputs": [],
   "source": [
    "from sklearn.metrics.pairwise import linear_kernel\n",
    "\n",
    "# Оценка косинусного сходства\n",
    "cosine_sim = linear_kernel(tf_idf)\n",
    "\n",
    "# DataFrame из матрицы оценки косинусного сходства с id фильмов.\n",
    "df_cosine_sim = pd.DataFrame(cosine_sim, index=df.movie_id, columns=df.movie_id)"
   ]
  },
  {
   "cell_type": "markdown",
   "metadata": {},
   "source": [
    "## Добавление взвешенного рейтинга\n",
    "Фильмы, которые пользуются большей популярностью и признанием критиков, с большей вероятностью понравятся среднему зрителю.\n",
    "\n",
    "Для справедливой оценки фильмов возьмем текущую рейтинговую систему IMDB (weighted rating (WR)), которая рассчитывается по формуле:\n",
    "$$WR = \\frac{v}{v + m} ⋅ R + \\frac{m}{v + m} ⋅ C$$ \n",
    "$v$ - количество голосов \\\n",
    "$m$ - количество голосов для включения в финальную таблицу \\\n",
    "$R$ - средняя оценка \\\n",
    "$C$ - средняя оценка всех фильмов \n",
    "\n",
    "Расcчитаем рейтинг для каждого фильма и сохраним его в колонку simple_score.\n",
    "\n",
    "В качестве параметра  𝑚\n",
    "> В качестве параметра $m$ выбери 95-й квантиль количества голосов."
   ]
  },
  {
   "cell_type": "code",
   "execution_count": 7,
   "metadata": {},
   "outputs": [],
   "source": [
    "# Функция расчёта рейтинга IMDB\n",
    "def weighted_rating(row):\n",
    "    v = row['vote_count']\n",
    "    r = row['vote_average']\n",
    "    wr = v / (v + m) * r + m / (v + m) * c\n",
    "    return round(wr, 1)"
   ]
  },
  {
   "cell_type": "code",
   "execution_count": 8,
   "metadata": {},
   "outputs": [],
   "source": [
    "# Количество голосов для включения в расчёт средней оценки фильмов\n",
    "m = df['vote_count'].quantile (.95)\n",
    "\n",
    "# Cредняя оценка фильмов, с количеством голосов более m\n",
    "c = (df[df.vote_count > m]['vote_average']).mean()\n",
    "\n",
    "# Запускаем функцию расчёта рейтинга IMDB для каждого фильма \n",
    "df['simple_score'] = df.apply(weighted_rating, axis=1)"
   ]
  },
  {
   "cell_type": "markdown",
   "metadata": {},
   "source": [
    "Сохраним получившиеся датасеты c расстояниями и фильмами в папку [assets](src/assets)."
   ]
  },
  {
   "cell_type": "code",
   "execution_count": 9,
   "metadata": {},
   "outputs": [],
   "source": [
    "df_cosine_sim.to_csv(r'../assets/distance.csv')\n",
    "df.to_csv(r'../assets/movies.csv')"
   ]
  }
 ],
 "metadata": {
  "kernelspec": {
   "display_name": "Python 3 (ipykernel)",
   "language": "python",
   "name": "python3"
  },
  "language_info": {
   "codemirror_mode": {
    "name": "ipython",
    "version": 3
   },
   "file_extension": ".py",
   "mimetype": "text/x-python",
   "name": "python",
   "nbconvert_exporter": "python",
   "pygments_lexer": "ipython3",
   "version": "3.9.15"
  }
 },
 "nbformat": 4,
 "nbformat_minor": 4
}
